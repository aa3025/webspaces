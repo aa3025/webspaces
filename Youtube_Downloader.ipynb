{
  "nbformat": 4,
  "nbformat_minor": 0,
  "metadata": {
    "colab": {
      "provenance": [],
      "include_colab_link": true
    },
    "kernelspec": {
      "name": "python3",
      "display_name": "Python 3"
    }
  },
  "cells": [
    {
      "cell_type": "markdown",
      "metadata": {
        "id": "view-in-github",
        "colab_type": "text"
      },
      "source": [
        "<a href=\"https://colab.research.google.com/github/aa3025/webspaces/blob/master/Youtube_Downloader.ipynb\" target=\"_parent\"><img src=\"https://colab.research.google.com/assets/colab-badge.svg\" alt=\"Open In Colab\"/></a>"
      ]
    },
    {
      "cell_type": "code",
      "metadata": {
        "id": "qOKysSYyVPWI",
        "colab": {
          "base_uri": "https://localhost:8080/",
          "height": 649
        },
        "outputId": "3e134d17-262b-4260-f6cb-18c39fe373eb"
      },
      "source": [
        "#@title Video + Playlist Downloder - Simple Mode { vertical-output: true }\n",
        "url = \"https://youtube.com/playlist?list=PLYmBen02JkfizvNNJWtn5UB-3pBC8rBRC\" #@param {type:\"string\"}\n",
        "# max_filesize_mb = 1000 #@param { type: 'slider', min: 1, max: 1000}\n",
        "playlist_start = 1 #@param { type: 'number' }\n",
        "playlist_end = 2 #@param { type: 'number' }\n",
        "\n",
        "quality = \"160K\" #@param { type: \"string\" }\n",
        "playlist_title = \"My_Playlist\" #@param { type: \"string\" }\n",
        "\n",
        "remove_everything = True #@param { type: 'boolean' }\n",
        "start_downloading_immediately = True #@param { type: 'boolean' }\n",
        "\n",
        "title=playlist_title+\".zip\"\n",
        "\n",
        "\n",
        "!pip install yt-dlp\n",
        "\n",
        "\n",
        "if remove_everything:\n",
        "    ! rm -rf *\n",
        "\n",
        "import google\n",
        "\n",
        "\n",
        "\n",
        "#Download videos:\n",
        "#! yt-dlp {url} --playlist-start {playlist_start} --playlist-end {playlist_end} --format 18\n",
        "\n",
        "#Download mp3\n",
        "! yt-dlp {url} --ignore-errors --format bestaudio --extract-audio --audio-format mp3 --audio-quality {quality} --output \"%(playlist_index)s - %(title)s.%(ext)s\" --playlist-start {playlist_start} --playlist-end {playlist_end} --yes-playlist\n",
        "\n",
        "! zip {title} *\n",
        "\n",
        "if start_downloading_immediately:\n",
        "    google.colab.files.download(title)"
      ],
      "execution_count": null,
      "outputs": [
        {
          "output_type": "stream",
          "name": "stdout",
          "text": [
            
          ]
        },
        {
          "output_type": "display_data",
          "data": {
            "text/plain": [
              "<IPython.core.display.Javascript object>"
            ],
            "application/javascript": [
              "\n",
              "    async function download(id, filename, size) {\n",
              "      if (!google.colab.kernel.accessAllowed) {\n",
              "        return;\n",
              "      }\n",
              "      const div = document.createElement('div');\n",
              "      const label = document.createElement('label');\n",
              "      label.textContent = `Downloading \"${filename}\": `;\n",
              "      div.appendChild(label);\n",
              "      const progress = document.createElement('progress');\n",
              "      progress.max = size;\n",
              "      div.appendChild(progress);\n",
              "      document.body.appendChild(div);\n",
              "\n",
              "      const buffers = [];\n",
              "      let downloaded = 0;\n",
              "\n",
              "      const channel = await google.colab.kernel.comms.open(id);\n",
              "      // Send a message to notify the kernel that we're ready.\n",
              "      channel.send({})\n",
              "\n",
              "      for await (const message of channel.messages) {\n",
              "        // Send a message to notify the kernel that we're ready.\n",
              "        channel.send({})\n",
              "        if (message.buffers) {\n",
              "          for (const buffer of message.buffers) {\n",
              "            buffers.push(buffer);\n",
              "            downloaded += buffer.byteLength;\n",
              "            progress.value = downloaded;\n",
              "          }\n",
              "        }\n",
              "      }\n",
              "      const blob = new Blob(buffers, {type: 'application/binary'});\n",
              "      const a = document.createElement('a');\n",
              "      a.href = window.URL.createObjectURL(blob);\n",
              "      a.download = filename;\n",
              "      div.appendChild(a);\n",
              "      a.click();\n",
              "      div.remove();\n",
              "    }\n",
              "  "
            ]
          },
          "metadata": {}
        },
        {
          "output_type": "display_data",
          "data": {
            "text/plain": [
              "<IPython.core.display.Javascript object>"
            ],
            "application/javascript": [
              "download(\"download_e8385cad-ba10-47fc-82f1-9376d50964de\", \"My_Playlist.zip\", 31756504)"
            ]
          },
          "metadata": {}
        }
      ]
    }
  ]
}
